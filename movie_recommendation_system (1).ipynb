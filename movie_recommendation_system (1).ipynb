{
  "nbformat": 4,
  "nbformat_minor": 0,
  "metadata": {
    "colab": {
      "provenance": []
    },
    "kernelspec": {
      "name": "python3",
      "display_name": "Python 3"
    },
    "language_info": {
      "name": "python"
    }
  },
  "cells": [
    {
      "cell_type": "code",
      "execution_count": null,
      "metadata": {
        "id": "0eY3SOYa2imD"
      },
      "outputs": [],
      "source": [
        "# to connect database using sqlite\n",
        "\n",
        "import sqlite3\n",
        "\n",
        "con = sqlite3.connect(\"/content/movielens-small.db\")\n",
        "cursor = con.cursor()"
      ]
    },
    {
      "cell_type": "markdown",
      "source": [
        "## DATASET INFORMATION:\n",
        "---\n",
        "- **ratings.csv**\n",
        "```\n",
        "userId, movieId, rating, timestamp\n",
        "```\n",
        "- **tags.csv**\n",
        "```\n",
        "userId, movieId, tag, timestamp\n",
        "```\n",
        "- **movies.csv**\n",
        "```\n",
        "movieId, title, year, genres\n",
        "```\n",
        "- **links.csv**\n",
        "```\n",
        "movieId, imdbId, tmdbId\n",
        "```"
      ],
      "metadata": {
        "id": "IFZ1V7wC4PFW"
      }
    },
    {
      "cell_type": "markdown",
      "source": [
        "# **TASK - 1: Exploratory Data Analysis**\n",
        "---\n",
        "- **Write a SQL query to create a dataframe with including userid, movieid, genre and rating** : `read_dataframe()`\n",
        "- **Count ratings for each movie, and list top 5 movies with the highest value** : `list_top5count_movies()`\n",
        "- **Find and list top 5 most rated genres** : `list_top5rated_genres()`"
      ],
      "metadata": {
        "id": "3c-tGDXw5YTs"
      }
    },
    {
      "cell_type": "code",
      "source": [
        "# function to create dataframe with including userid, movieid, genre and rating\n",
        "def read_dataframe():\n",
        "  cursor.execute(\"SELECT ratings.userId, ratings.movieid, movies.genres, ratings.rating FROM ratings JOIN movies ON ratings.movieId = movies.movieId\")\n",
        "  data = cursor.fetchall()\n",
        "\n",
        "  print(\"USER_ID, MOVIE_ID, GENRE, RATING\\n--------------------------------------------\")\n",
        "  for i in data:\n",
        "    print(i)\n",
        "\n",
        "# function to create dataframe that has count ratings for each movie and list top 5 movies with the highest value of count ratings\n",
        "def list_top5count_movies():\n",
        "  cursor.execute(\"SELECT title, COUNT(rating) as count_rating FROM movies m JOIN ratings r ON m.movieId = r.movieId GROUP BY title ORDER BY count_rating DESC LIMIT 5\")\n",
        "  data = cursor.fetchall()\n",
        "\n",
        "  print(\"(MOVIE TITLE, COUNT OF RATING)\\n-------------------------------\")\n",
        "  for i in data:\n",
        "    print(i)\n",
        "\n",
        "# function to find and list top 5 most rated genres\n",
        "def list_top5rated_genres():\n",
        "  cursor.execute(\"SELECT genres, SUM(rating) as Sum_Rating FROM movies m JOIN ratings r ON m.movieId = r.movieId GROUP BY genres ORDER BY Sum_Rating DESC LIMIT 5\")\n",
        "  data = cursor.fetchall()\n",
        "\n",
        "  print(\"(MOVIE GENRE, SUM OF RATINGS)\\n-------------------------------\")\n",
        "  for i in data:\n",
        "    print(i)"
      ],
      "metadata": {
        "id": "ca7F2WUV5iFb"
      },
      "execution_count": null,
      "outputs": []
    },
    {
      "cell_type": "code",
      "source": [
        "# read_dataframe()\n",
        "# list_top5count_movies()\n",
        "list_top5rated_genres()"
      ],
      "metadata": {
        "id": "agh6oHoz6Wm5",
        "colab": {
          "base_uri": "https://localhost:8080/"
        },
        "outputId": "a6c4ef3a-a9b2-4cbe-86cf-1215d7691aa3"
      },
      "execution_count": null,
      "outputs": [
        {
          "output_type": "stream",
          "name": "stdout",
          "text": [
            "(MOVIE GENRE, SUM OF RATINGS)\n",
            "-------------------------------\n",
            "('Drama', 25650.0)\n",
            "('Comedy', 20529.5)\n",
            "('Comedy|Romance', 12930.5)\n",
            "('Drama|Romance', 11295.5)\n",
            "('Comedy|Drama', 10709.5)\n"
          ]
        }
      ]
    },
    {
      "cell_type": "markdown",
      "source": [
        "# **TASK - 2: Recommender Design**\n",
        "---\n",
        "\n",
        "- **Train a recommender model, one by using user ratings (please prefer a model under PySpark MLlib)**\n",
        "- **Present your model outputs by using essential metrics**\n",
        "\n",
        "> ## Requirements\n",
        "```\n",
        "!pip install pyspark\n",
        "```\n",
        "\n",
        "\n",
        "\n"
      ],
      "metadata": {
        "id": "LJofyiX6do84"
      }
    },
    {
      "cell_type": "code",
      "source": [
        "!pip install pyspark"
      ],
      "metadata": {
        "id": "_ysAn9Mo6oKr",
        "colab": {
          "base_uri": "https://localhost:8080/"
        },
        "outputId": "07ff909f-054b-4b1e-8ece-77eb99be539d"
      },
      "execution_count": null,
      "outputs": [
        {
          "output_type": "stream",
          "name": "stdout",
          "text": [
            "Collecting pyspark\n",
            "  Downloading pyspark-3.2.1.tar.gz (281.4 MB)\n",
            "\u001b[K     |████████████████████████████████| 281.4 MB 31 kB/s \n",
            "\u001b[?25hCollecting py4j==0.10.9.3\n",
            "  Downloading py4j-0.10.9.3-py2.py3-none-any.whl (198 kB)\n",
            "\u001b[K     |████████████████████████████████| 198 kB 59.4 MB/s \n",
            "\u001b[?25hBuilding wheels for collected packages: pyspark\n",
            "  Building wheel for pyspark (setup.py) ... \u001b[?25l\u001b[?25hdone\n",
            "  Created wheel for pyspark: filename=pyspark-3.2.1-py2.py3-none-any.whl size=281853642 sha256=0f3b2d8273643923b0237eba484f545cf8dd035130f8f829fe7516a6a8a2cc31\n",
            "  Stored in directory: /root/.cache/pip/wheels/9f/f5/07/7cd8017084dce4e93e84e92efd1e1d5334db05f2e83bcef74f\n",
            "Successfully built pyspark\n",
            "Installing collected packages: py4j, pyspark\n",
            "Successfully installed py4j-0.10.9.3 pyspark-3.2.1\n"
          ]
        }
      ]
    },
    {
      "cell_type": "code",
      "source": [
        "# for machine learning processes\n",
        "from pyspark.ml.evaluation import RegressionEvaluator\n",
        "from pyspark.ml.recommendation import ALS\n",
        "from pyspark.ml.tuning import TrainValidationSplit, ParamGridBuilder\n",
        "\n",
        "# for dataframe and spark session processes\n",
        "from pyspark.sql import SparkSession\n",
        "from pyspark.sql.functions import *\n",
        "from pyspark.sql.types import *\n",
        "from pyspark.context import SparkContext\n",
        "from datetime import date, timedelta, datetime\n",
        "import time"
      ],
      "metadata": {
        "id": "npANYz_ReTtN"
      },
      "execution_count": null,
      "outputs": []
    },
    {
      "cell_type": "markdown",
      "source": [
        "> **Functions required to create the dataset file containing the rating data (User_Id, Movie_Id, Rating) required for the recommendation system model:**\n",
        "\n",
        "- **`create_table()`** : to create the dataset file\n",
        "- **`insert_data()`** : to transfer data from the database to the data set created\n",
        "- **`ratings_show()`** : displays data to verify that the dataset has been created\n",
        "\n",
        "\n"
      ],
      "metadata": {
        "id": "t3GZzEYZ5mgX"
      }
    },
    {
      "cell_type": "code",
      "source": [
        "def create_table():\n",
        "  cursor.execute(\"CREATE TABLE movie_ratings (User_Id int, Movie_Id INT, Rating FLOAT)\")\n",
        "  data = cursor.fetchall()\n",
        "\n",
        "def insert_data():\n",
        "  cursor.execute(\"INSERT INTO movie_ratings (User_Id, Movie_Id, Rating) SELECT userid, m.movieid, r.rating FROM movies m JOIN ratings r ON m.movieId = r.movieId\")\n",
        "  data = cursor.fetchall()\n",
        "\n",
        "def ratings_show():\n",
        "  cursor.execute(\"SELECT * FROM movie_ratings LIMIT 5\")\n",
        "  data = cursor.fetchall()\n",
        "  for i in data:\n",
        "    print(i)\n",
        "\n",
        "create_table()\n",
        "insert_data()\n",
        "ratings_show()"
      ],
      "metadata": {
        "id": "5vjbVqFuhJ2b",
        "colab": {
          "base_uri": "https://localhost:8080/"
        },
        "outputId": "2dc84838-977b-4c5c-b8ed-4b201d93288f"
      },
      "execution_count": null,
      "outputs": [
        {
          "output_type": "stream",
          "name": "stdout",
          "text": [
            "(7, 1, 5.0)\n",
            "(10, 1, 4.0)\n",
            "(13, 1, 4.5)\n",
            "(16, 1, 5.0)\n",
            "(21, 1, 5.0)\n"
          ]
        }
      ]
    },
    {
      "cell_type": "code",
      "source": [
        "def create_table():\n",
        "  cursor.execute(\"CREATE TABLE movies_2 (Movie_Id INT, Genres VARCHAR(255), Title VARCHAR(255))\")\n",
        "  data = cursor.fetchall()\n",
        "\n",
        "def insert_data():\n",
        "  cursor.execute(\"INSERT INTO movies_2 (Movie_Id, Genres, Title) SELECT movieid, genres, title FROM movies\")\n",
        "  data = cursor.fetchall()\n",
        "\n",
        "def movies_show():\n",
        "  cursor.execute(\"SELECT * FROM movies_2 LIMIT 5\")\n",
        "  data = cursor.fetchall()\n",
        "  for i in data:\n",
        "    print(i)\n",
        "\n",
        "# create_table()\n",
        "# insert_data()\n",
        "movies_show()"
      ],
      "metadata": {
        "id": "G72kgbklQMjV",
        "colab": {
          "base_uri": "https://localhost:8080/"
        },
        "outputId": "983af0c0-9b4f-4fa1-98d7-598772759530"
      },
      "execution_count": null,
      "outputs": [
        {
          "output_type": "stream",
          "name": "stdout",
          "text": [
            "(1, 'Adventure|Animation|Children|Comedy|Fantasy', 'Toy Story')\n",
            "(2, 'Adventure|Children|Fantasy', 'Jumanji')\n",
            "(3, 'Comedy|Romance', 'Grumpier Old Men')\n",
            "(4, 'Comedy|Drama|Romance', 'Waiting to Exhale')\n",
            "(5, 'Comedy', 'Father of the Bride Part II')\n"
          ]
        }
      ]
    },
    {
      "cell_type": "code",
      "source": [
        "# to start spark session\n",
        "spark = SparkSession.builder.appName('Recommendations').getOrCreate()"
      ],
      "metadata": {
        "id": "stWDWq2ejZTD"
      },
      "execution_count": null,
      "outputs": []
    },
    {
      "cell_type": "markdown",
      "source": [
        "## **1.** Load The Datasets\n",
        "\n",
        "\n",
        ">"
      ],
      "metadata": {
        "id": "fc7r-fTV8O0R"
      }
    },
    {
      "cell_type": "code",
      "source": [
        "ratings  = spark.read.json('/content/datafiles_recommendation/ratings.db.json')\n",
        "movies  = spark.read.json('/content/datafiles_recommendation/movies.json')"
      ],
      "metadata": {
        "id": "JMmi0K6pk0vf"
      },
      "execution_count": null,
      "outputs": []
    },
    {
      "cell_type": "code",
      "source": [
        "# to verify that it was created correctly by viewing part of the dataset\n",
        "\n",
        "ratings.show(3)\n",
        "# ratings.printSchema()\n",
        "# ratings.describe().show()"
      ],
      "metadata": {
        "colab": {
          "base_uri": "https://localhost:8080/"
        },
        "id": "x20f-Of6NEtP",
        "outputId": "355213f6-bbe8-4fa8-89db-4df5dc6489b4"
      },
      "execution_count": null,
      "outputs": [
        {
          "output_type": "stream",
          "name": "stdout",
          "text": [
            "+--------+------+-------+\n",
            "|Movie_Id|Rating|User_Id|\n",
            "+--------+------+-------+\n",
            "|       1|   5.0|      7|\n",
            "|       1|   4.0|     10|\n",
            "|       1|   4.5|     13|\n",
            "+--------+------+-------+\n",
            "only showing top 3 rows\n",
            "\n"
          ]
        }
      ]
    },
    {
      "cell_type": "code",
      "source": [
        "# to verify that it was created correctly by viewing part of the dataset\n",
        "\n",
        "movies.show(3)\n",
        "# movies.printSchema()\n",
        "# movies.describe().show()"
      ],
      "metadata": {
        "colab": {
          "base_uri": "https://localhost:8080/"
        },
        "id": "AAioN0mSf4tf",
        "outputId": "7150ae33-1ebd-4781-ef45-1ef166f925a1"
      },
      "execution_count": null,
      "outputs": [
        {
          "output_type": "stream",
          "name": "stdout",
          "text": [
            "+--------------------+--------+----------------+\n",
            "|              Genres|Movie_Id|           Title|\n",
            "+--------------------+--------+----------------+\n",
            "|Adventure|Animati...|       1|       Toy Story|\n",
            "|Adventure|Childre...|       2|         Jumanji|\n",
            "|      Comedy|Romance|       3|Grumpier Old Men|\n",
            "+--------------------+--------+----------------+\n",
            "only showing top 3 rows\n",
            "\n"
          ]
        }
      ]
    },
    {
      "cell_type": "markdown",
      "source": [
        "### **To examine the density status of the dataset (sparsity)**"
      ],
      "metadata": {
        "id": "sq3t_0zf-o2x"
      }
    },
    {
      "cell_type": "code",
      "source": [
        "# Count the total number of ratings in the dataset\n",
        "numerator = ratings.select(\"Rating\").count()\n",
        "\n",
        "# Count the number of distinct User_Ids and distinct Movie_Ids\n",
        "num_users = ratings.select(\"User_Id\").distinct().count()\n",
        "num_movies = ratings.select(\"Movie_Id\").distinct().count()\n",
        "\n",
        "# Set the denominator equal to the number of users multiplied by the number of movies\n",
        "denominator = num_users * num_movies\n",
        "\n",
        "# Divide the numerator by the denominator\n",
        "sparsity = (1.0 - (numerator *1.0)/denominator)*100\n",
        "print(\"The ratings dataframe is\", \"%.2f\" % sparsity + \"% empty.\")"
      ],
      "metadata": {
        "colab": {
          "base_uri": "https://localhost:8080/"
        },
        "id": "_AR8UeqthwDx",
        "outputId": "35970b5f-b9b6-48dd-a82d-faa44cc7d175"
      },
      "execution_count": null,
      "outputs": [
        {
          "output_type": "stream",
          "name": "stdout",
          "text": [
            "The ratings dataframe is 98.34% empty.\n"
          ]
        }
      ]
    },
    {
      "cell_type": "markdown",
      "source": [
        "### **To interpret ratings**\n",
        "\n",
        "> **To find out how many ratings users generally have for movies and to see how many ratings each movie has**"
      ],
      "metadata": {
        "id": "gdhi9STe_q4H"
      }
    },
    {
      "cell_type": "code",
      "source": [
        "userId_ratings = ratings.groupBy(\"User_Id\").count().orderBy('count', ascending=False)\n",
        "userId_ratings.show(5)"
      ],
      "metadata": {
        "colab": {
          "base_uri": "https://localhost:8080/"
        },
        "id": "56-Y1A3KjQnc",
        "outputId": "fe542c83-aba1-43dc-ff54-a7ee0d9776e4"
      },
      "execution_count": null,
      "outputs": [
        {
          "output_type": "stream",
          "name": "stdout",
          "text": [
            "+-------+-----+\n",
            "|User_Id|count|\n",
            "+-------+-----+\n",
            "|    516| 2268|\n",
            "|    384| 1412|\n",
            "|    187| 1338|\n",
            "|     31| 1283|\n",
            "|    377| 1241|\n",
            "+-------+-----+\n",
            "only showing top 5 rows\n",
            "\n"
          ]
        }
      ]
    },
    {
      "cell_type": "code",
      "source": [
        "# Group data by userId, count ratings\n",
        "movieId_ratings = ratings.groupBy(\"Movie_Id\").count().orderBy('count', ascending=False)\n",
        "movieId_ratings.show(5)"
      ],
      "metadata": {
        "colab": {
          "base_uri": "https://localhost:8080/"
        },
        "id": "zSu0TFyTjYh7",
        "outputId": "6295812f-68ba-47ee-fc0d-0cb5b63a2de0"
      },
      "execution_count": null,
      "outputs": [
        {
          "output_type": "stream",
          "name": "stdout",
          "text": [
            "+--------+-----+\n",
            "|Movie_Id|count|\n",
            "+--------+-----+\n",
            "|     593|  337|\n",
            "|     318|  328|\n",
            "|     296|  327|\n",
            "|     480|  324|\n",
            "|     356|  318|\n",
            "+--------+-----+\n",
            "only showing top 5 rows\n",
            "\n"
          ]
        }
      ]
    },
    {
      "cell_type": "markdown",
      "source": [
        "## 2- **Let's Build Out An Alternating Least Square Model for Recommendation System**\n",
        "\n"
      ],
      "metadata": {
        "id": "vJ_WgK5djlRz"
      }
    },
    {
      "cell_type": "code",
      "source": [
        "# Create test and train set\n",
        "(train, test) = ratings.randomSplit([0.7, 0.3], seed=42)\n",
        "\n",
        "# Create Alternating Least Square Model\n",
        "als = ALS(userCol=\"User_Id\", itemCol=\"Movie_Id\", ratingCol=\"Rating\", coldStartStrategy=\"drop\", nonnegative=True)"
      ],
      "metadata": {
        "id": "nRFCmNO7-34e"
      },
      "execution_count": null,
      "outputs": []
    },
    {
      "cell_type": "markdown",
      "source": [
        "### Configure Spark to tune ALS model\n"
      ],
      "metadata": {
        "id": "smgb6be6Tob7"
      }
    },
    {
      "cell_type": "code",
      "source": [
        "# hyperparameters and their respective values to param_grid\n",
        "param_grid = ParamGridBuilder()\\\n",
        "            .addGrid(als.rank, [12,13,14])\\\n",
        "            .addGrid(als.maxIter, [18,19,20])\\\n",
        "            .addGrid(als.regParam, [.17, .18, .19])\\\n",
        "            .build()\n",
        "\n",
        "# Defining evaluator as RMSE and print length of evaluator\n",
        "evaluator = RegressionEvaluator(metricName=\"rmse\", labelCol=\"Rating\", predictionCol=\"prediction\")"
      ],
      "metadata": {
        "id": "bAbvpstHDinW"
      },
      "execution_count": null,
      "outputs": []
    },
    {
      "cell_type": "code",
      "source": [
        "# to build validation pipeline\n",
        "tvs = TrainValidationSplit(estimator=als,\n",
        "                           estimatorParamMaps=param_grid,\n",
        "                           evaluator=evaluator)"
      ],
      "metadata": {
        "id": "VjfRo2TeEL3-"
      },
      "execution_count": null,
      "outputs": []
    },
    {
      "cell_type": "markdown",
      "source": [
        "### **To set best model and best model parameters for recommendation system**"
      ],
      "metadata": {
        "id": "GiKi6ABoBHZi"
      }
    },
    {
      "cell_type": "code",
      "source": [
        "model = tvs.fit(train)"
      ],
      "metadata": {
        "id": "JrC2_SkkEcwL"
      },
      "execution_count": null,
      "outputs": []
    },
    {
      "cell_type": "code",
      "source": [
        "best_model = model.bestModel"
      ],
      "metadata": {
        "id": "_xuYfKfQEgQ8"
      },
      "execution_count": null,
      "outputs": []
    },
    {
      "cell_type": "code",
      "source": [
        "test_predictions = best_model.transform(test)\n",
        "test_predictions.show()"
      ],
      "metadata": {
        "id": "7A-QkXa5GsQ8",
        "colab": {
          "base_uri": "https://localhost:8080/"
        },
        "outputId": "c29ad508-bc37-4d31-dd1a-fe607dac0f03"
      },
      "execution_count": null,
      "outputs": [
        {
          "output_type": "stream",
          "name": "stdout",
          "text": [
            "+--------+------+-------+----------+\n",
            "|Movie_Id|Rating|User_Id|prediction|\n",
            "+--------+------+-------+----------+\n",
            "|       1|   5.0|    463|  3.714744|\n",
            "|      39|   4.0|    463| 2.9265532|\n",
            "|      50|   5.0|    471| 4.2191024|\n",
            "|     223|   4.0|    463| 3.6979783|\n",
            "|     296|   3.5|    463| 3.7659485|\n",
            "|     356|   2.5|    463| 3.7481034|\n",
            "|     364|   4.0|    463| 3.5133514|\n",
            "|     431|   0.5|    496| 2.6126382|\n",
            "|     480|   3.0|    463|  3.363496|\n",
            "|     593|   0.5|    463| 3.9473886|\n",
            "|     858|   3.0|    463|  4.002961|\n",
            "|    1022|   4.0|    496| 1.8810195|\n",
            "|    1263|   3.0|    148|  3.307123|\n",
            "|    1271|   2.5|    496| 2.5144684|\n",
            "|    1350|   2.0|    463| 3.5871649|\n",
            "|    1357|   2.5|    496| 2.3616364|\n",
            "|    1380|   3.5|    463| 2.7687407|\n",
            "|    1663|   2.0|    496| 2.3664596|\n",
            "|    1682|   4.0|    463| 3.7895508|\n",
            "|    1805|   3.0|    463| 2.8645997|\n",
            "+--------+------+-------+----------+\n",
            "only showing top 20 rows\n",
            "\n"
          ]
        }
      ]
    },
    {
      "cell_type": "code",
      "source": [
        "# View the predictions\n",
        "RMSE = evaluator.evaluate(test_predictions)\n",
        "print(RMSE)"
      ],
      "metadata": {
        "colab": {
          "base_uri": "https://localhost:8080/"
        },
        "id": "zoWBRxFtG1aH",
        "outputId": "f1286df4-d183-4640-b495-acfeb8aed4cd"
      },
      "execution_count": null,
      "outputs": [
        {
          "output_type": "stream",
          "name": "stdout",
          "text": [
            "0.9358478101821549\n"
          ]
        }
      ]
    },
    {
      "cell_type": "code",
      "source": [
        "print(\"Best Model\")\n",
        "print(\"-------------\")\n",
        "\n",
        "print(\"  Rank:\", best_model._java_obj.parent().getRank())\n",
        "print(\"  MaxIter:\", best_model._java_obj.parent().getMaxIter())\n",
        "print(\"  RegParam:\", best_model._java_obj.parent().getRegParam())"
      ],
      "metadata": {
        "colab": {
          "base_uri": "https://localhost:8080/"
        },
        "id": "FLRV1neYG2hd",
        "outputId": "dcec23c1-18b2-4b4b-dd00-eff3512c70eb"
      },
      "execution_count": null,
      "outputs": [
        {
          "output_type": "stream",
          "name": "stdout",
          "text": [
            "Best Model\n",
            "-------------\n",
            "  Rank: 14\n",
            "  MaxIter: 18\n",
            "  RegParam: 0.18\n"
          ]
        }
      ]
    },
    {
      "cell_type": "markdown",
      "source": [
        "## **3- Create The Recommendation System**"
      ],
      "metadata": {
        "id": "3XGHbC_iB5ry"
      }
    },
    {
      "cell_type": "code",
      "source": [
        "# Generate n (ex: 10) Recommendations for all users\n",
        "\n",
        "nrecommendations = best_model.recommendForAllUsers(10)\n",
        "nrecommendations.limit(10).show()"
      ],
      "metadata": {
        "colab": {
          "base_uri": "https://localhost:8080/"
        },
        "id": "ATp81KkZG6c9",
        "outputId": "d3f2ef4b-c7cb-44d0-fd54-da444ac2551a"
      },
      "execution_count": null,
      "outputs": [
        {
          "output_type": "stream",
          "name": "stderr",
          "text": [
            "/usr/local/lib/python3.7/dist-packages/pyspark/sql/context.py:127: FutureWarning: Deprecated in 3.0.0. Use SparkSession.builder.getOrCreate() instead.\n",
            "  FutureWarning\n"
          ]
        },
        {
          "output_type": "stream",
          "name": "stdout",
          "text": [
            "+-------+--------------------+\n",
            "|User_Id|     recommendations|\n",
            "+-------+--------------------+\n",
            "|      1|[{61742, 4.626641...|\n",
            "|      3|[{8675, 5.818129}...|\n",
            "|      5|[{2647, 4.62478},...|\n",
            "|      6|[{8675, 4.4502645...|\n",
            "|      9|[{8675, 5.3346553...|\n",
            "|     12|[{31785, 4.403877...|\n",
            "|     13|[{8675, 5.124443}...|\n",
            "|     15|[{7669, 4.8727922...|\n",
            "|     16|[{5792, 4.7523603...|\n",
            "|     17|[{3466, 4.4046903...|\n",
            "+-------+--------------------+\n",
            "\n"
          ]
        }
      ]
    },
    {
      "cell_type": "code",
      "source": [
        "# to split the recommendation column into 2 separate columns to bring the table to the format we want\n",
        "\n",
        "nrecommendations = nrecommendations\\\n",
        "    .withColumn(\"rec_exp\", explode(\"recommendations\"))\\\n",
        "    .select('User_Id', col(\"rec_exp.Movie_Id\"), col(\"rec_exp.Rating\"))\n",
        "\n",
        "nrecommendations.limit(10).show()"
      ],
      "metadata": {
        "colab": {
          "base_uri": "https://localhost:8080/"
        },
        "id": "Rbagp28kLejC",
        "outputId": "8b620467-f2da-459f-f183-f2c5c78d8364"
      },
      "execution_count": null,
      "outputs": [
        {
          "output_type": "stream",
          "name": "stdout",
          "text": [
            "+-------+--------+---------+\n",
            "|User_Id|Movie_Id|   Rating|\n",
            "+-------+--------+---------+\n",
            "|      1|   61742|4.6266413|\n",
            "|      1|   57910|4.6266413|\n",
            "|      1|    8675|4.6143594|\n",
            "|      1|    7070|4.5916395|\n",
            "|      1|    4710|4.5321174|\n",
            "|      1|    2457|4.3114796|\n",
            "|      1|    8491|4.2861776|\n",
            "|      1|   26840|4.2495356|\n",
            "|      1|   97172|4.2027597|\n",
            "|      1|   52579|4.2027597|\n",
            "+-------+--------+---------+\n",
            "\n"
          ]
        }
      ]
    },
    {
      "cell_type": "markdown",
      "source": [
        "## 4- RECOMMENDATION SYSTEM\n",
        "\n",
        "> **Movie recommendation system that filters the User_Id information according to the user we want and lists the most compatible movies for that user.**\n",
        "\n",
        "Please edit the filter `.filter(\"User_Id = N\")` with the **user's ID** (N) according to the user you want."
      ],
      "metadata": {
        "id": "Ez9hE7peCrbl"
      }
    },
    {
      "cell_type": "code",
      "source": [
        "nrecommendations.join(movies, on='Movie_Id').filter('User_Id = 100').sort('rating', ascending=False).limit(10).show()"
      ],
      "metadata": {
        "colab": {
          "base_uri": "https://localhost:8080/"
        },
        "id": "h2_P1mNrMlyx",
        "outputId": "4e99b150-246e-4cc9-cabe-56d98db8c1fc"
      },
      "execution_count": null,
      "outputs": [
        {
          "output_type": "stream",
          "name": "stdout",
          "text": [
            "+--------+-------+---------+--------------------+--------------------+\n",
            "|Movie_Id|User_Id|   Rating|              Genres|               Title|\n",
            "+--------+-------+---------+--------------------+--------------------+\n",
            "|    8675|    100| 5.232433|    Action|Drama|War|    Enemy Below, The|\n",
            "|    7070|    100| 4.972743|Action|Adventure|...|           Red River|\n",
            "|   57910|    100|4.9353347|       Comedy|Horror|               Teeth|\n",
            "|   61742|    100|4.9353347|         Documentary|Maradona by Kustu...|\n",
            "|    4710|    100|4.8961687|       Drama|Western|       Shootist, The|\n",
            "|      80|    100|4.8941445|      Children|Drama|White Balloon, Th...|\n",
            "|    1450|    100|4.7797093|                 War|Prisoner of the M...|\n",
            "|     764|    100|4.7797093|       Drama|Romance|               Heavy|\n",
            "|    6216|    100| 4.759422|               Drama|Nowhere in Africa...|\n",
            "|    1400|    100|4.7593737|               Drama| Somebody is Waiting|\n",
            "+--------+-------+---------+--------------------+--------------------+\n",
            "\n"
          ]
        }
      ]
    }
  ]
}